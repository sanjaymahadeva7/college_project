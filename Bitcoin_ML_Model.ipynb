{
 "cells": [
  {
   "cell_type": "code",
   "execution_count": 1,
   "id": "2801d053-54bc-427c-b6aa-d5ad4829b20e",
   "metadata": {},
   "outputs": [],
   "source": [
    "import pandas as pd\n",
    "import numpy as np\n",
    "import matplotlib.pyplot as plt"
   ]
  },
  {
   "cell_type": "code",
   "execution_count": 2,
   "id": "a02ac486-4dfa-45a7-a838-dace136fed09",
   "metadata": {},
   "outputs": [],
   "source": [
    "import warnings\n",
    "\n",
    "# Filter out warnings\n",
    "warnings.filterwarnings(\"ignore\")\n",
    "\n"
   ]
  },
  {
   "cell_type": "code",
   "execution_count": 3,
   "id": "aa1d7684-958f-48d6-b1e6-fc34465205b8",
   "metadata": {},
   "outputs": [],
   "source": [
    "data = pd.read_csv(\"bitcoin.csv\")"
   ]
  },
  {
   "cell_type": "code",
   "execution_count": 4,
   "id": "eecb3108-1cca-42c5-94b4-98493f9f170c",
   "metadata": {},
   "outputs": [],
   "source": [
    "data = pd.DataFrame(data)"
   ]
  },
  {
   "cell_type": "code",
   "execution_count": 5,
   "id": "5eb86436-282f-4811-b15d-e13255050c0f",
   "metadata": {},
   "outputs": [
    {
     "data": {
      "text/html": [
       "<div>\n",
       "<style scoped>\n",
       "    .dataframe tbody tr th:only-of-type {\n",
       "        vertical-align: middle;\n",
       "    }\n",
       "\n",
       "    .dataframe tbody tr th {\n",
       "        vertical-align: top;\n",
       "    }\n",
       "\n",
       "    .dataframe thead th {\n",
       "        text-align: right;\n",
       "    }\n",
       "</style>\n",
       "<table border=\"1\" class=\"dataframe\">\n",
       "  <thead>\n",
       "    <tr style=\"text-align: right;\">\n",
       "      <th></th>\n",
       "      <th>Start</th>\n",
       "      <th>End</th>\n",
       "      <th>Open</th>\n",
       "      <th>High</th>\n",
       "      <th>Low</th>\n",
       "      <th>Close</th>\n",
       "      <th>Volume</th>\n",
       "      <th>Market Cap</th>\n",
       "    </tr>\n",
       "  </thead>\n",
       "  <tbody>\n",
       "    <tr>\n",
       "      <th>0</th>\n",
       "      <td>2024-05-22</td>\n",
       "      <td>2024-05-23</td>\n",
       "      <td>70144.69</td>\n",
       "      <td>70599.97</td>\n",
       "      <td>69048.60</td>\n",
       "      <td>69224.99</td>\n",
       "      <td>1.161000e+11</td>\n",
       "      <td>1.375970e+12</td>\n",
       "    </tr>\n",
       "    <tr>\n",
       "      <th>1</th>\n",
       "      <td>2024-05-21</td>\n",
       "      <td>2024-05-22</td>\n",
       "      <td>71369.73</td>\n",
       "      <td>71739.14</td>\n",
       "      <td>69266.38</td>\n",
       "      <td>70104.40</td>\n",
       "      <td>1.403673e+11</td>\n",
       "      <td>1.391372e+12</td>\n",
       "    </tr>\n",
       "    <tr>\n",
       "      <th>2</th>\n",
       "      <td>2024-05-20</td>\n",
       "      <td>2024-05-21</td>\n",
       "      <td>66222.45</td>\n",
       "      <td>71456.55</td>\n",
       "      <td>66139.62</td>\n",
       "      <td>71418.17</td>\n",
       "      <td>9.769064e+10</td>\n",
       "      <td>1.332128e+12</td>\n",
       "    </tr>\n",
       "    <tr>\n",
       "      <th>3</th>\n",
       "      <td>2024-05-19</td>\n",
       "      <td>2024-05-20</td>\n",
       "      <td>66972.63</td>\n",
       "      <td>67598.31</td>\n",
       "      <td>66005.33</td>\n",
       "      <td>66347.05</td>\n",
       "      <td>8.441685e+10</td>\n",
       "      <td>1.317072e+12</td>\n",
       "    </tr>\n",
       "    <tr>\n",
       "      <th>4</th>\n",
       "      <td>2024-05-18</td>\n",
       "      <td>2024-05-19</td>\n",
       "      <td>66939.82</td>\n",
       "      <td>67376.41</td>\n",
       "      <td>66640.01</td>\n",
       "      <td>66914.58</td>\n",
       "      <td>9.377570e+10</td>\n",
       "      <td>1.318743e+12</td>\n",
       "    </tr>\n",
       "  </tbody>\n",
       "</table>\n",
       "</div>"
      ],
      "text/plain": [
       "        Start         End      Open      High       Low     Close  \\\n",
       "0  2024-05-22  2024-05-23  70144.69  70599.97  69048.60  69224.99   \n",
       "1  2024-05-21  2024-05-22  71369.73  71739.14  69266.38  70104.40   \n",
       "2  2024-05-20  2024-05-21  66222.45  71456.55  66139.62  71418.17   \n",
       "3  2024-05-19  2024-05-20  66972.63  67598.31  66005.33  66347.05   \n",
       "4  2024-05-18  2024-05-19  66939.82  67376.41  66640.01  66914.58   \n",
       "\n",
       "         Volume    Market Cap  \n",
       "0  1.161000e+11  1.375970e+12  \n",
       "1  1.403673e+11  1.391372e+12  \n",
       "2  9.769064e+10  1.332128e+12  \n",
       "3  8.441685e+10  1.317072e+12  \n",
       "4  9.377570e+10  1.318743e+12  "
      ]
     },
     "execution_count": 5,
     "metadata": {},
     "output_type": "execute_result"
    }
   ],
   "source": [
    "data.head()"
   ]
  },
  {
   "cell_type": "code",
   "execution_count": 6,
   "id": "28e8d997-a3b1-46e3-bfef-c9324b7af308",
   "metadata": {},
   "outputs": [],
   "source": [
    "null_values = data.isnull()"
   ]
  },
  {
   "cell_type": "code",
   "execution_count": 7,
   "id": "31601483-5114-4dbd-9db8-9b8d53c02ca1",
   "metadata": {},
   "outputs": [],
   "source": [
    "null_counts = null_values.sum()"
   ]
  },
  {
   "cell_type": "code",
   "execution_count": 8,
   "id": "58262b76-cfd0-41ee-a02e-8f1cffeaf0f6",
   "metadata": {},
   "outputs": [
    {
     "data": {
      "text/plain": [
       "Start         0\n",
       "End           0\n",
       "Open          0\n",
       "High          0\n",
       "Low           0\n",
       "Close         0\n",
       "Volume        0\n",
       "Market Cap    0\n",
       "dtype: int64"
      ]
     },
     "execution_count": 8,
     "metadata": {},
     "output_type": "execute_result"
    }
   ],
   "source": [
    "null_counts"
   ]
  },
  {
   "cell_type": "code",
   "execution_count": 9,
   "id": "c98ff292-f0bd-4f4f-afc4-f2294321934d",
   "metadata": {},
   "outputs": [],
   "source": [
    "data.drop(columns = ['Open','High','Low','Volume','Market Cap'], inplace=True)"
   ]
  },
  {
   "cell_type": "code",
   "execution_count": 10,
   "id": "48dff259-927e-4674-b415-2c2b9f3667f9",
   "metadata": {},
   "outputs": [
    {
     "data": {
      "text/html": [
       "<div>\n",
       "<style scoped>\n",
       "    .dataframe tbody tr th:only-of-type {\n",
       "        vertical-align: middle;\n",
       "    }\n",
       "\n",
       "    .dataframe tbody tr th {\n",
       "        vertical-align: top;\n",
       "    }\n",
       "\n",
       "    .dataframe thead th {\n",
       "        text-align: right;\n",
       "    }\n",
       "</style>\n",
       "<table border=\"1\" class=\"dataframe\">\n",
       "  <thead>\n",
       "    <tr style=\"text-align: right;\">\n",
       "      <th></th>\n",
       "      <th>Start</th>\n",
       "      <th>End</th>\n",
       "      <th>Close</th>\n",
       "    </tr>\n",
       "  </thead>\n",
       "  <tbody>\n",
       "    <tr>\n",
       "      <th>0</th>\n",
       "      <td>2024-05-22</td>\n",
       "      <td>2024-05-23</td>\n",
       "      <td>69224.9900</td>\n",
       "    </tr>\n",
       "    <tr>\n",
       "      <th>1</th>\n",
       "      <td>2024-05-21</td>\n",
       "      <td>2024-05-22</td>\n",
       "      <td>70104.4000</td>\n",
       "    </tr>\n",
       "    <tr>\n",
       "      <th>2</th>\n",
       "      <td>2024-05-20</td>\n",
       "      <td>2024-05-21</td>\n",
       "      <td>71418.1700</td>\n",
       "    </tr>\n",
       "    <tr>\n",
       "      <th>3</th>\n",
       "      <td>2024-05-19</td>\n",
       "      <td>2024-05-20</td>\n",
       "      <td>66347.0500</td>\n",
       "    </tr>\n",
       "    <tr>\n",
       "      <th>4</th>\n",
       "      <td>2024-05-18</td>\n",
       "      <td>2024-05-19</td>\n",
       "      <td>66914.5800</td>\n",
       "    </tr>\n",
       "    <tr>\n",
       "      <th>...</th>\n",
       "      <td>...</td>\n",
       "      <td>...</td>\n",
       "      <td>...</td>\n",
       "    </tr>\n",
       "    <tr>\n",
       "      <th>5054</th>\n",
       "      <td>2010-07-21</td>\n",
       "      <td>2010-07-22</td>\n",
       "      <td>0.0792</td>\n",
       "    </tr>\n",
       "    <tr>\n",
       "      <th>5055</th>\n",
       "      <td>2010-07-20</td>\n",
       "      <td>2010-07-21</td>\n",
       "      <td>0.0747</td>\n",
       "    </tr>\n",
       "    <tr>\n",
       "      <th>5056</th>\n",
       "      <td>2010-07-19</td>\n",
       "      <td>2010-07-20</td>\n",
       "      <td>0.0808</td>\n",
       "    </tr>\n",
       "    <tr>\n",
       "      <th>5057</th>\n",
       "      <td>2010-07-18</td>\n",
       "      <td>2010-07-19</td>\n",
       "      <td>0.0858</td>\n",
       "    </tr>\n",
       "    <tr>\n",
       "      <th>5058</th>\n",
       "      <td>2010-07-17</td>\n",
       "      <td>2010-07-18</td>\n",
       "      <td>0.0500</td>\n",
       "    </tr>\n",
       "  </tbody>\n",
       "</table>\n",
       "<p>5059 rows × 3 columns</p>\n",
       "</div>"
      ],
      "text/plain": [
       "           Start         End       Close\n",
       "0     2024-05-22  2024-05-23  69224.9900\n",
       "1     2024-05-21  2024-05-22  70104.4000\n",
       "2     2024-05-20  2024-05-21  71418.1700\n",
       "3     2024-05-19  2024-05-20  66347.0500\n",
       "4     2024-05-18  2024-05-19  66914.5800\n",
       "...          ...         ...         ...\n",
       "5054  2010-07-21  2010-07-22      0.0792\n",
       "5055  2010-07-20  2010-07-21      0.0747\n",
       "5056  2010-07-19  2010-07-20      0.0808\n",
       "5057  2010-07-18  2010-07-19      0.0858\n",
       "5058  2010-07-17  2010-07-18      0.0500\n",
       "\n",
       "[5059 rows x 3 columns]"
      ]
     },
     "execution_count": 10,
     "metadata": {},
     "output_type": "execute_result"
    }
   ],
   "source": [
    "data"
   ]
  },
  {
   "cell_type": "code",
   "execution_count": 11,
   "id": "735ea794-0a49-4a03-b883-a16d9a185914",
   "metadata": {},
   "outputs": [],
   "source": [
    "data_reversed = data.iloc[::-1].reset_index(drop=True)\n",
    "data=data_reversed"
   ]
  },
  {
   "cell_type": "code",
   "execution_count": 12,
   "id": "5fbfee1f-f15a-4603-8e00-37f3291109d7",
   "metadata": {},
   "outputs": [
    {
     "data": {
      "text/html": [
       "<div>\n",
       "<style scoped>\n",
       "    .dataframe tbody tr th:only-of-type {\n",
       "        vertical-align: middle;\n",
       "    }\n",
       "\n",
       "    .dataframe tbody tr th {\n",
       "        vertical-align: top;\n",
       "    }\n",
       "\n",
       "    .dataframe thead th {\n",
       "        text-align: right;\n",
       "    }\n",
       "</style>\n",
       "<table border=\"1\" class=\"dataframe\">\n",
       "  <thead>\n",
       "    <tr style=\"text-align: right;\">\n",
       "      <th></th>\n",
       "      <th>Start</th>\n",
       "      <th>End</th>\n",
       "      <th>Close</th>\n",
       "    </tr>\n",
       "  </thead>\n",
       "  <tbody>\n",
       "    <tr>\n",
       "      <th>0</th>\n",
       "      <td>2010-07-17</td>\n",
       "      <td>2010-07-18</td>\n",
       "      <td>0.0500</td>\n",
       "    </tr>\n",
       "    <tr>\n",
       "      <th>1</th>\n",
       "      <td>2010-07-18</td>\n",
       "      <td>2010-07-19</td>\n",
       "      <td>0.0858</td>\n",
       "    </tr>\n",
       "    <tr>\n",
       "      <th>2</th>\n",
       "      <td>2010-07-19</td>\n",
       "      <td>2010-07-20</td>\n",
       "      <td>0.0808</td>\n",
       "    </tr>\n",
       "    <tr>\n",
       "      <th>3</th>\n",
       "      <td>2010-07-20</td>\n",
       "      <td>2010-07-21</td>\n",
       "      <td>0.0747</td>\n",
       "    </tr>\n",
       "    <tr>\n",
       "      <th>4</th>\n",
       "      <td>2010-07-21</td>\n",
       "      <td>2010-07-22</td>\n",
       "      <td>0.0792</td>\n",
       "    </tr>\n",
       "    <tr>\n",
       "      <th>...</th>\n",
       "      <td>...</td>\n",
       "      <td>...</td>\n",
       "      <td>...</td>\n",
       "    </tr>\n",
       "    <tr>\n",
       "      <th>5054</th>\n",
       "      <td>2024-05-18</td>\n",
       "      <td>2024-05-19</td>\n",
       "      <td>66914.5800</td>\n",
       "    </tr>\n",
       "    <tr>\n",
       "      <th>5055</th>\n",
       "      <td>2024-05-19</td>\n",
       "      <td>2024-05-20</td>\n",
       "      <td>66347.0500</td>\n",
       "    </tr>\n",
       "    <tr>\n",
       "      <th>5056</th>\n",
       "      <td>2024-05-20</td>\n",
       "      <td>2024-05-21</td>\n",
       "      <td>71418.1700</td>\n",
       "    </tr>\n",
       "    <tr>\n",
       "      <th>5057</th>\n",
       "      <td>2024-05-21</td>\n",
       "      <td>2024-05-22</td>\n",
       "      <td>70104.4000</td>\n",
       "    </tr>\n",
       "    <tr>\n",
       "      <th>5058</th>\n",
       "      <td>2024-05-22</td>\n",
       "      <td>2024-05-23</td>\n",
       "      <td>69224.9900</td>\n",
       "    </tr>\n",
       "  </tbody>\n",
       "</table>\n",
       "<p>5059 rows × 3 columns</p>\n",
       "</div>"
      ],
      "text/plain": [
       "           Start         End       Close\n",
       "0     2010-07-17  2010-07-18      0.0500\n",
       "1     2010-07-18  2010-07-19      0.0858\n",
       "2     2010-07-19  2010-07-20      0.0808\n",
       "3     2010-07-20  2010-07-21      0.0747\n",
       "4     2010-07-21  2010-07-22      0.0792\n",
       "...          ...         ...         ...\n",
       "5054  2024-05-18  2024-05-19  66914.5800\n",
       "5055  2024-05-19  2024-05-20  66347.0500\n",
       "5056  2024-05-20  2024-05-21  71418.1700\n",
       "5057  2024-05-21  2024-05-22  70104.4000\n",
       "5058  2024-05-22  2024-05-23  69224.9900\n",
       "\n",
       "[5059 rows x 3 columns]"
      ]
     },
     "execution_count": 12,
     "metadata": {},
     "output_type": "execute_result"
    }
   ],
   "source": [
    "data"
   ]
  },
  {
   "cell_type": "code",
   "execution_count": 13,
   "id": "547d4c7d-1d8c-4260-a34f-4ee0e04818c2",
   "metadata": {},
   "outputs": [],
   "source": [
    "data.drop(columns = ['End','Start'], inplace=True)"
   ]
  },
  {
   "cell_type": "code",
   "execution_count": 14,
   "id": "f383eb6c-ffe8-4df9-b2e7-57adf0baff22",
   "metadata": {},
   "outputs": [
    {
     "data": {
      "image/png": "[encoded data removed]",
      "text/plain": [
       "<Figure size 400x400 with 1 Axes>"
      ]
     },
     "metadata": {},
     "output_type": "display_data"
    }
   ],
   "source": [
    "# Plot the data\n",
    "plt.figure(figsize=(4, 4))\n",
    "plt.plot(data)\n",
    "plt.show()"
   ]
  },
  {
   "cell_type": "code",
   "execution_count": 15,
   "id": "97c3e561-fe6c-43d9-853c-5e8fcac0b42f",
   "metadata": {},
   "outputs": [],
   "source": [
    "# Assuming 'data' is your DataFrame\n",
    "data = data.iloc[1804:].reset_index(drop=True)"
   ]
  },
  {
   "cell_type": "code",
   "execution_count": 16,
   "id": "19364792-b54a-42c7-bf21-512d71dd62b1",
   "metadata": {},
   "outputs": [
    {
     "data": {
      "text/html": [
       "<div>\n",
       "<style scoped>\n",
       "    .dataframe tbody tr th:only-of-type {\n",
       "        vertical-align: middle;\n",
       "    }\n",
       "\n",
       "    .dataframe tbody tr th {\n",
       "        vertical-align: top;\n",
       "    }\n",
       "\n",
       "    .dataframe thead th {\n",
       "        text-align: right;\n",
       "    }\n",
       "</style>\n",
       "<table border=\"1\" class=\"dataframe\">\n",
       "  <thead>\n",
       "    <tr style=\"text-align: right;\">\n",
       "      <th></th>\n",
       "      <th>Close</th>\n",
       "    </tr>\n",
       "  </thead>\n",
       "  <tbody>\n",
       "    <tr>\n",
       "      <th>0</th>\n",
       "      <td>242.694</td>\n",
       "    </tr>\n",
       "    <tr>\n",
       "      <th>1</th>\n",
       "      <td>243.599</td>\n",
       "    </tr>\n",
       "    <tr>\n",
       "      <th>2</th>\n",
       "      <td>251.083</td>\n",
       "    </tr>\n",
       "    <tr>\n",
       "      <th>3</th>\n",
       "      <td>248.987</td>\n",
       "    </tr>\n",
       "    <tr>\n",
       "      <th>4</th>\n",
       "      <td>257.022</td>\n",
       "    </tr>\n",
       "    <tr>\n",
       "      <th>...</th>\n",
       "      <td>...</td>\n",
       "    </tr>\n",
       "    <tr>\n",
       "      <th>3250</th>\n",
       "      <td>66914.580</td>\n",
       "    </tr>\n",
       "    <tr>\n",
       "      <th>3251</th>\n",
       "      <td>66347.050</td>\n",
       "    </tr>\n",
       "    <tr>\n",
       "      <th>3252</th>\n",
       "      <td>71418.170</td>\n",
       "    </tr>\n",
       "    <tr>\n",
       "      <th>3253</th>\n",
       "      <td>70104.400</td>\n",
       "    </tr>\n",
       "    <tr>\n",
       "      <th>3254</th>\n",
       "      <td>69224.990</td>\n",
       "    </tr>\n",
       "  </tbody>\n",
       "</table>\n",
       "<p>3255 rows × 1 columns</p>\n",
       "</div>"
      ],
      "text/plain": [
       "          Close\n",
       "0       242.694\n",
       "1       243.599\n",
       "2       251.083\n",
       "3       248.987\n",
       "4       257.022\n",
       "...         ...\n",
       "3250  66914.580\n",
       "3251  66347.050\n",
       "3252  71418.170\n",
       "3253  70104.400\n",
       "3254  69224.990\n",
       "\n",
       "[3255 rows x 1 columns]"
      ]
     },
     "execution_count": 16,
     "metadata": {},
     "output_type": "execute_result"
    }
   ],
   "source": [
    "data"
   ]
  },
  {
   "cell_type": "code",
   "execution_count": 17,
   "id": "f5ea8067-c400-4b10-b602-1cb2799ddaa8",
   "metadata": {},
   "outputs": [
    {
     "data": {
      "text/plain": [
       "(3255, 1)"
      ]
     },
     "execution_count": 17,
     "metadata": {},
     "output_type": "execute_result"
    }
   ],
   "source": [
    "data.shape"
   ]
  },
  {
   "cell_type": "code",
   "execution_count": 18,
   "id": "4905d6a7-2d6d-475f-8ebb-221d7d98db4a",
   "metadata": {},
   "outputs": [
    {
     "data": {
      "image/png": "[encoded data removed]",
      "text/plain": [
       "<Figure size 400x400 with 1 Axes>"
      ]
     },
     "metadata": {},
     "output_type": "display_data"
    }
   ],
   "source": [
    "# Plot the data\n",
    "plt.figure(figsize=(4, 4))\n",
    "plt.plot(data)\n",
    "plt.show()"
   ]
  },
  {
   "cell_type": "code",
   "execution_count": 19,
   "id": "ec7c961a-6783-4289-b102-98facb5142bb",
   "metadata": {},
   "outputs": [],
   "source": [
    "train_data = data[:-100]\n",
    "test_data = data[-100:]"
   ]
  },
  {
   "cell_type": "code",
   "execution_count": 20,
   "id": "70d9f005-edb6-47ac-ae47-04c70b6e0214",
   "metadata": {},
   "outputs": [
    {
     "data": {
      "text/plain": [
       "(3155, 1)"
      ]
     },
     "execution_count": 20,
     "metadata": {},
     "output_type": "execute_result"
    }
   ],
   "source": [
    "train_data.shape"
   ]
  },
  {
   "cell_type": "code",
   "execution_count": 21,
   "id": "17461adf-dd77-4ad6-9e82-0cee9f3e0fc2",
   "metadata": {},
   "outputs": [
    {
     "data": {
      "text/plain": [
       "(100, 1)"
      ]
     },
     "execution_count": 21,
     "metadata": {},
     "output_type": "execute_result"
    }
   ],
   "source": [
    "test_data.shape"
   ]
  },
  {
   "cell_type": "code",
   "execution_count": 22,
   "id": "bdeacaf3-7db7-40e7-8385-45bbd7dd31c5",
   "metadata": {},
   "outputs": [],
   "source": [
    "from sklearn.preprocessing import MinMaxScaler\n",
    "scaler = MinMaxScaler(feature_range=(0,1))"
   ]
  },
  {
   "cell_type": "code",
   "execution_count": 23,
   "id": "96af2fa8-6e35-41b0-9186-3d48b9fe6c81",
   "metadata": {},
   "outputs": [],
   "source": [
    "train_data_scale = scaler.fit_transform(train_data)"
   ]
  },
  {
   "cell_type": "code",
   "execution_count": 24,
   "id": "01178263-4f35-408d-bcc0-bbe5d807aca8",
   "metadata": {},
   "outputs": [],
   "source": [
    "base_days = 100"
   ]
  },
  {
   "cell_type": "code",
   "execution_count": 25,
   "id": "16faf40a-a0b2-4f81-a085-28f4e8162661",
   "metadata": {},
   "outputs": [],
   "source": [
    "x = []\n",
    "y = []\n",
    "for i in range(base_days, train_data_scale.shape[0]):\n",
    "    x.append(train_data_scale[i-base_days:i])\n",
    "    y.append(train_data_scale[i,0])"
   ]
  },
  {
   "cell_type": "code",
   "execution_count": 26,
   "id": "84afa18c-da4d-4adb-8092-1973798176e6",
   "metadata": {},
   "outputs": [
    {
     "data": {
      "text/plain": [
       "array([[4.65160305e-04],\n",
       "       [4.78609828e-04],\n",
       "       [5.89832184e-04],\n",
       "       [5.58682791e-04],\n",
       "       [6.78093751e-04],\n",
       "       [7.68525075e-04],\n",
       "       [7.02302893e-04],\n",
       "       [6.55459912e-04],\n",
       "       [6.66056056e-04],\n",
       "       [7.36825812e-04],\n",
       "       [8.97982309e-04],\n",
       "       [8.56771781e-04],\n",
       "       [8.21669269e-04],\n",
       "       [8.79821737e-04],\n",
       "       [8.62939242e-04],\n",
       "       [1.09556398e-03],\n",
       "       [1.21509383e-03],\n",
       "       [1.48063646e-03],\n",
       "       [1.20247654e-03],\n",
       "       [1.13490198e-03],\n",
       "       [1.10997949e-03],\n",
       "       [9.91162984e-04],\n",
       "       [1.01280111e-03],\n",
       "       [9.41169397e-04],\n",
       "       [9.22518401e-04],\n",
       "       [9.95799725e-04],\n",
       "       [9.63580315e-04],\n",
       "       [9.78842923e-04],\n",
       "       [9.61024163e-04],\n",
       "       [1.14447269e-03],\n",
       "       [1.14970388e-03],\n",
       "       [1.20723217e-03],\n",
       "       [1.22239075e-03],\n",
       "       [1.23374483e-03],\n",
       "       [1.16211311e-03],\n",
       "       [1.13640297e-03],\n",
       "       [1.08646883e-03],\n",
       "       [1.04949379e-03],\n",
       "       [1.05857407e-03],\n",
       "       [1.04380189e-03],\n",
       "       [1.09826874e-03],\n",
       "       [1.04730917e-03],\n",
       "       [9.99708261e-04],\n",
       "       [1.01075024e-03],\n",
       "       [7.33779235e-04],\n",
       "       [7.97014286e-04],\n",
       "       [7.87800248e-04],\n",
       "       [8.75244441e-04],\n",
       "       [8.16839329e-04],\n",
       "       [7.81469313e-04],\n",
       "       [8.08264329e-04],\n",
       "       [7.44568576e-04],\n",
       "       [7.00266887e-04],\n",
       "       [6.91929669e-04],\n",
       "       [2.62154242e-05],\n",
       "       [2.27794797e-04],\n",
       "       [3.56984527e-04],\n",
       "       [3.17512777e-04],\n",
       "       [2.83703202e-04],\n",
       "       [2.52479502e-04],\n",
       "       [0.00000000e+00],\n",
       "       [1.52804417e-04],\n",
       "       [2.14345274e-04],\n",
       "       [1.95619971e-04],\n",
       "       [2.98460524e-04],\n",
       "       [2.73448869e-04],\n",
       "       [2.53906192e-04],\n",
       "       [2.79185351e-04],\n",
       "       [2.47471227e-04],\n",
       "       [2.65052206e-04],\n",
       "       [2.32773350e-04],\n",
       "       [2.82306235e-04],\n",
       "       [3.51500688e-04],\n",
       "       [4.24306450e-04],\n",
       "       [4.26476207e-04],\n",
       "       [4.78892194e-04],\n",
       "       [3.96961563e-04],\n",
       "       [4.04258486e-04],\n",
       "       [4.27650254e-04],\n",
       "       [3.53551555e-04],\n",
       "       [2.88533141e-04],\n",
       "       [2.86259355e-04],\n",
       "       [2.82172483e-04],\n",
       "       [2.62585221e-04],\n",
       "       [2.73686651e-04],\n",
       "       [3.21465896e-04],\n",
       "       [2.98609138e-04],\n",
       "       [2.93615724e-04],\n",
       "       [2.30261782e-04],\n",
       "       [2.85219060e-04],\n",
       "       [2.80968713e-04],\n",
       "       [3.43921399e-04],\n",
       "       [3.53908227e-04],\n",
       "       [3.41662473e-04],\n",
       "       [3.17349302e-04],\n",
       "       [4.12744318e-04],\n",
       "       [3.73837299e-04],\n",
       "       [3.66911910e-04],\n",
       "       [3.88728374e-04],\n",
       "       [3.85280540e-04]])"
      ]
     },
     "execution_count": 26,
     "metadata": {},
     "output_type": "execute_result"
    }
   ],
   "source": [
    "x[0]"
   ]
  },
  {
   "cell_type": "code",
   "execution_count": 27,
   "id": "c42aca3b-19d8-494a-8c20-bd34014401ab",
   "metadata": {},
   "outputs": [
    {
     "data": {
      "text/plain": [
       "0.00040721589517374096"
      ]
     },
     "execution_count": 27,
     "metadata": {},
     "output_type": "execute_result"
    }
   ],
   "source": [
    "y[0]"
   ]
  },
  {
   "cell_type": "code",
   "execution_count": 28,
   "id": "1a1648d5-98be-4775-b815-92e832b76363",
   "metadata": {},
   "outputs": [],
   "source": [
    "x, y = np.array(x), np.array(y)"
   ]
  },
  {
   "cell_type": "code",
   "execution_count": 29,
   "id": "89e25ef9-38ac-4eb4-98d3-0bdbf34330d8",
   "metadata": {},
   "outputs": [
    {
     "data": {
      "text/plain": [
       "array([[[4.65160305e-04],\n",
       "        [4.78609828e-04],\n",
       "        [5.89832184e-04],\n",
       "        ...,\n",
       "        [3.66911910e-04],\n",
       "        [3.88728374e-04],\n",
       "        [3.85280540e-04]],\n",
       "\n",
       "       [[4.78609828e-04],\n",
       "        [5.89832184e-04],\n",
       "        [5.58682791e-04],\n",
       "        ...,\n",
       "        [3.88728374e-04],\n",
       "        [3.85280540e-04],\n",
       "        [4.07215895e-04]],\n",
       "\n",
       "       [[5.89832184e-04],\n",
       "        [5.58682791e-04],\n",
       "        [6.78093751e-04],\n",
       "        ...,\n",
       "        [3.85280540e-04],\n",
       "        [4.07215895e-04],\n",
       "        [3.98358530e-04]],\n",
       "\n",
       "       ...,\n",
       "\n",
       "       [[5.15787818e-01],\n",
       "        [5.12993586e-01],\n",
       "        [5.17298177e-01],\n",
       "        ...,\n",
       "        [6.55632988e-01],\n",
       "        [6.70315260e-01],\n",
       "        [6.96737851e-01]],\n",
       "\n",
       "       [[5.12993586e-01],\n",
       "        [5.17298177e-01],\n",
       "        [5.17339194e-01],\n",
       "        ...,\n",
       "        [6.70315260e-01],\n",
       "        [6.96737851e-01],\n",
       "        [7.06639970e-01]],\n",
       "\n",
       "       [[5.17298177e-01],\n",
       "        [5.17339194e-01],\n",
       "        [5.17294461e-01],\n",
       "        ...,\n",
       "        [6.96737851e-01],\n",
       "        [7.06639970e-01],\n",
       "        [7.14211086e-01]]])"
      ]
     },
     "execution_count": 29,
     "metadata": {},
     "output_type": "execute_result"
    }
   ],
   "source": [
    "x"
   ]
  },
  {
   "cell_type": "code",
   "execution_count": 30,
   "id": "ed6c53b7-ce63-4993-a305-f0f85d2ac6e0",
   "metadata": {},
   "outputs": [
    {
     "data": {
      "text/plain": [
       "array([4.07215895e-04, 3.98358530e-04, 4.28690548e-04, ...,\n",
       "       7.06639970e-01, 7.14211086e-01, 7.40183972e-01])"
      ]
     },
     "execution_count": 30,
     "metadata": {},
     "output_type": "execute_result"
    }
   ],
   "source": [
    "y"
   ]
  },
  {
   "cell_type": "code",
   "execution_count": 31,
   "id": "f735ac5f-ce83-443b-bcff-32745bb41f06",
   "metadata": {},
   "outputs": [],
   "source": [
    "x = np.reshape(x, (x.shape[0],x.shape[1],1))"
   ]
  },
  {
   "cell_type": "code",
   "execution_count": 32,
   "id": "08173c3a-f069-46a4-a165-88c5ae11c564",
   "metadata": {},
   "outputs": [],
   "source": [
    "from keras.layers import LSTM, Dense, Dropout\n",
    "from keras.models import Sequential"
   ]
  },
  {
   "cell_type": "code",
   "execution_count": 33,
   "id": "ca64e68e-753d-4c09-900c-ab6551e679f2",
   "metadata": {},
   "outputs": [],
   "source": [
    "model = Sequential()\n",
    "model.add(LSTM(50, activation = 'relu', return_sequences=True, input_shape=(x.shape[1],1)))\n",
    "model.add(Dropout(0.2))\n",
    "model.add(LSTM(60, activation='relu',return_sequences=True))\n",
    "model.add(Dropout(0.3))\n",
    "model.add(LSTM(80, activation='relu',return_sequences=True))\n",
    "model.add(Dropout(0.4))\n",
    "model.add(LSTM(120, activation='relu'))\n",
    "model.add(Dropout(0.5))\n",
    "\n",
    "model.add(Dense(units=1))"
   ]
  },
  {
   "cell_type": "code",
   "execution_count": 34,
   "id": "1ed41f8b-f408-4144-935d-5415f4649a1a",
   "metadata": {},
   "outputs": [
    {
     "data": {
      "text/html": [
       "<pre style=\"white-space:pre;overflow-x:auto;line-height:normal;font-family:Menlo,'DejaVu Sans Mono',consolas,'Courier New',monospace\"><span style=\"font-weight: bold\">Model: \"sequential\"</span>\n",
       "</pre>\n"
      ],
      "text/plain": [
       "\u001b[1mModel: \"sequential\"\u001b[0m\n"
      ]
     },
     "metadata": {},
     "output_type": "display_data"
    },
    {
     "data": {
      "text/html": [
       "<pre style=\"white-space:pre;overflow-x:auto;line-height:normal;font-family:Menlo,'DejaVu Sans Mono',consolas,'Courier New',monospace\">┏━━━━━━━━━━━━━━━━━━━━━━━━━━━━━━━━━┳━━━━━━━━━━━━━━━━━━━━━━━━┳━━━━━━━━━━━━━━━┓\n",
       "┃<span style=\"font-weight: bold\"> Layer (type)                    </span>┃<span style=\"font-weight: bold\"> Output Shape           </span>┃<span style=\"font-weight: bold\">       Param # </span>┃\n",
       "┡━━━━━━━━━━━━━━━━━━━━━━━━━━━━━━━━━╇━━━━━━━━━━━━━━━━━━━━━━━━╇━━━━━━━━━━━━━━━┩\n",
       "│ lstm (<span style=\"color: #0087ff; text-decoration-color: #0087ff\">LSTM</span>)                     │ (<span style=\"color: #00d7ff; text-decoration-color: #00d7ff\">None</span>, <span style=\"color: #00af00; text-decoration-color: #00af00\">100</span>, <span style=\"color: #00af00; text-decoration-color: #00af00\">50</span>)        │        <span style=\"color: #00af00; text-decoration-color: #00af00\">10,400</span> │\n",
       "├─────────────────────────────────┼────────────────────────┼───────────────┤\n",
       "│ dropout (<span style=\"color: #0087ff; text-decoration-color: #0087ff\">Dropout</span>)               │ (<span style=\"color: #00d7ff; text-decoration-color: #00d7ff\">None</span>, <span style=\"color: #00af00; text-decoration-color: #00af00\">100</span>, <span style=\"color: #00af00; text-decoration-color: #00af00\">50</span>)        │             <span style=\"color: #00af00; text-decoration-color: #00af00\">0</span> │\n",
       "├─────────────────────────────────┼────────────────────────┼───────────────┤\n",
       "│ lstm_1 (<span style=\"color: #0087ff; text-decoration-color: #0087ff\">LSTM</span>)                   │ (<span style=\"color: #00d7ff; text-decoration-color: #00d7ff\">None</span>, <span style=\"color: #00af00; text-decoration-color: #00af00\">100</span>, <span style=\"color: #00af00; text-decoration-color: #00af00\">60</span>)        │        <span style=\"color: #00af00; text-decoration-color: #00af00\">26,640</span> │\n",
       "├─────────────────────────────────┼────────────────────────┼───────────────┤\n",
       "│ dropout_1 (<span style=\"color: #0087ff; text-decoration-color: #0087ff\">Dropout</span>)             │ (<span style=\"color: #00d7ff; text-decoration-color: #00d7ff\">None</span>, <span style=\"color: #00af00; text-decoration-color: #00af00\">100</span>, <span style=\"color: #00af00; text-decoration-color: #00af00\">60</span>)        │             <span style=\"color: #00af00; text-decoration-color: #00af00\">0</span> │\n",
       "├─────────────────────────────────┼────────────────────────┼───────────────┤\n",
       "│ lstm_2 (<span style=\"color: #0087ff; text-decoration-color: #0087ff\">LSTM</span>)                   │ (<span style=\"color: #00d7ff; text-decoration-color: #00d7ff\">None</span>, <span style=\"color: #00af00; text-decoration-color: #00af00\">100</span>, <span style=\"color: #00af00; text-decoration-color: #00af00\">80</span>)        │        <span style=\"color: #00af00; text-decoration-color: #00af00\">45,120</span> │\n",
       "├─────────────────────────────────┼────────────────────────┼───────────────┤\n",
       "│ dropout_2 (<span style=\"color: #0087ff; text-decoration-color: #0087ff\">Dropout</span>)             │ (<span style=\"color: #00d7ff; text-decoration-color: #00d7ff\">None</span>, <span style=\"color: #00af00; text-decoration-color: #00af00\">100</span>, <span style=\"color: #00af00; text-decoration-color: #00af00\">80</span>)        │             <span style=\"color: #00af00; text-decoration-color: #00af00\">0</span> │\n",
       "├─────────────────────────────────┼────────────────────────┼───────────────┤\n",
       "│ lstm_3 (<span style=\"color: #0087ff; text-decoration-color: #0087ff\">LSTM</span>)                   │ (<span style=\"color: #00d7ff; text-decoration-color: #00d7ff\">None</span>, <span style=\"color: #00af00; text-decoration-color: #00af00\">120</span>)            │        <span style=\"color: #00af00; text-decoration-color: #00af00\">96,480</span> │\n",
       "├─────────────────────────────────┼────────────────────────┼───────────────┤\n",
       "│ dropout_3 (<span style=\"color: #0087ff; text-decoration-color: #0087ff\">Dropout</span>)             │ (<span style=\"color: #00d7ff; text-decoration-color: #00d7ff\">None</span>, <span style=\"color: #00af00; text-decoration-color: #00af00\">120</span>)            │             <span style=\"color: #00af00; text-decoration-color: #00af00\">0</span> │\n",
       "├─────────────────────────────────┼────────────────────────┼───────────────┤\n",
       "│ dense (<span style=\"color: #0087ff; text-decoration-color: #0087ff\">Dense</span>)                   │ (<span style=\"color: #00d7ff; text-decoration-color: #00d7ff\">None</span>, <span style=\"color: #00af00; text-decoration-color: #00af00\">1</span>)              │           <span style=\"color: #00af00; text-decoration-color: #00af00\">121</span> │\n",
       "└─────────────────────────────────┴────────────────────────┴───────────────┘\n",
       "</pre>\n"
      ],
      "text/plain": [
       "┏━━━━━━━━━━━━━━━━━━━━━━━━━━━━━━━━━┳━━━━━━━━━━━━━━━━━━━━━━━━┳━━━━━━━━━━━━━━━┓\n",
       "┃\u001b[1m \u001b[0m\u001b[1mLayer (type)                   \u001b[0m\u001b[1m \u001b[0m┃\u001b[1m \u001b[0m\u001b[1mOutput Shape          \u001b[0m\u001b[1m \u001b[0m┃\u001b[1m \u001b[0m\u001b[1m      Param #\u001b[0m\u001b[1m \u001b[0m┃\n",
       "┡━━━━━━━━━━━━━━━━━━━━━━━━━━━━━━━━━╇━━━━━━━━━━━━━━━━━━━━━━━━╇━━━━━━━━━━━━━━━┩\n",
       "│ lstm (\u001b[38;5;33mLSTM\u001b[0m)                     │ (\u001b[38;5;45mNone\u001b[0m, \u001b[38;5;34m100\u001b[0m, \u001b[38;5;34m50\u001b[0m)        │        \u001b[38;5;34m10,400\u001b[0m │\n",
       "├─────────────────────────────────┼────────────────────────┼───────────────┤\n",
       "│ dropout (\u001b[38;5;33mDropout\u001b[0m)               │ (\u001b[38;5;45mNone\u001b[0m, \u001b[38;5;34m100\u001b[0m, \u001b[38;5;34m50\u001b[0m)        │             \u001b[38;5;34m0\u001b[0m │\n",
       "├─────────────────────────────────┼────────────────────────┼───────────────┤\n",
       "│ lstm_1 (\u001b[38;5;33mLSTM\u001b[0m)                   │ (\u001b[38;5;45mNone\u001b[0m, \u001b[38;5;34m100\u001b[0m, \u001b[38;5;34m60\u001b[0m)        │        \u001b[38;5;34m26,640\u001b[0m │\n",
       "├─────────────────────────────────┼────────────────────────┼───────────────┤\n",
       "│ dropout_1 (\u001b[38;5;33mDropout\u001b[0m)             │ (\u001b[38;5;45mNone\u001b[0m, \u001b[38;5;34m100\u001b[0m, \u001b[38;5;34m60\u001b[0m)        │             \u001b[38;5;34m0\u001b[0m │\n",
       "├─────────────────────────────────┼────────────────────────┼───────────────┤\n",
       "│ lstm_2 (\u001b[38;5;33mLSTM\u001b[0m)                   │ (\u001b[38;5;45mNone\u001b[0m, \u001b[38;5;34m100\u001b[0m, \u001b[38;5;34m80\u001b[0m)        │        \u001b[38;5;34m45,120\u001b[0m │\n",
       "├─────────────────────────────────┼────────────────────────┼───────────────┤\n",
       "│ dropout_2 (\u001b[38;5;33mDropout\u001b[0m)             │ (\u001b[38;5;45mNone\u001b[0m, \u001b[38;5;34m100\u001b[0m, \u001b[38;5;34m80\u001b[0m)        │             \u001b[38;5;34m0\u001b[0m │\n",
       "├─────────────────────────────────┼────────────────────────┼───────────────┤\n",
       "│ lstm_3 (\u001b[38;5;33mLSTM\u001b[0m)                   │ (\u001b[38;5;45mNone\u001b[0m, \u001b[38;5;34m120\u001b[0m)            │        \u001b[38;5;34m96,480\u001b[0m │\n",
       "├─────────────────────────────────┼────────────────────────┼───────────────┤\n",
       "│ dropout_3 (\u001b[38;5;33mDropout\u001b[0m)             │ (\u001b[38;5;45mNone\u001b[0m, \u001b[38;5;34m120\u001b[0m)            │             \u001b[38;5;34m0\u001b[0m │\n",
       "├─────────────────────────────────┼────────────────────────┼───────────────┤\n",
       "│ dense (\u001b[38;5;33mDense\u001b[0m)                   │ (\u001b[38;5;45mNone\u001b[0m, \u001b[38;5;34m1\u001b[0m)              │           \u001b[38;5;34m121\u001b[0m │\n",
       "└─────────────────────────────────┴────────────────────────┴───────────────┘\n"
      ]
     },
     "metadata": {},
     "output_type": "display_data"
    },
    {
     "data": {
      "text/html": [
       "<pre style=\"white-space:pre;overflow-x:auto;line-height:normal;font-family:Menlo,'DejaVu Sans Mono',consolas,'Courier New',monospace\"><span style=\"font-weight: bold\"> Total params: </span><span style=\"color: #00af00; text-decoration-color: #00af00\">178,761</span> (698.29 KB)\n",
       "</pre>\n"
      ],
      "text/plain": [
       "\u001b[1m Total params: \u001b[0m\u001b[38;5;34m178,761\u001b[0m (698.29 KB)\n"
      ]
     },
     "metadata": {},
     "output_type": "display_data"
    },
    {
     "data": {
      "text/html": [
       "<pre style=\"white-space:pre;overflow-x:auto;line-height:normal;font-family:Menlo,'DejaVu Sans Mono',consolas,'Courier New',monospace\"><span style=\"font-weight: bold\"> Trainable params: </span><span style=\"color: #00af00; text-decoration-color: #00af00\">178,761</span> (698.29 KB)\n",
       "</pre>\n"
      ],
      "text/plain": [
       "\u001b[1m Trainable params: \u001b[0m\u001b[38;5;34m178,761\u001b[0m (698.29 KB)\n"
      ]
     },
     "metadata": {},
     "output_type": "display_data"
    },
    {
     "data": {
      "text/html": [
       "<pre style=\"white-space:pre;overflow-x:auto;line-height:normal;font-family:Menlo,'DejaVu Sans Mono',consolas,'Courier New',monospace\"><span style=\"font-weight: bold\"> Non-trainable params: </span><span style=\"color: #00af00; text-decoration-color: #00af00\">0</span> (0.00 B)\n",
       "</pre>\n"
      ],
      "text/plain": [
       "\u001b[1m Non-trainable params: \u001b[0m\u001b[38;5;34m0\u001b[0m (0.00 B)\n"
      ]
     },
     "metadata": {},
     "output_type": "display_data"
    }
   ],
   "source": [
    "model.summary()"
   ]
  },
  {
   "cell_type": "code",
   "execution_count": 35,
   "id": "f0606cb2-9385-4a24-8f7b-2e60d00cd8d0",
   "metadata": {},
   "outputs": [],
   "source": [
    "model.compile(optimizer='adam', loss = 'mean_squared_error')"
   ]
  },
  {
   "cell_type": "code",
   "execution_count": 36,
   "id": "c6466623-7cb1-4368-990c-9d2831935f69",
   "metadata": {},
   "outputs": [
    {
     "name": "stdout",
     "output_type": "stream",
     "text": [
      "Epoch 1/50\n",
      "\u001b[1m96/96\u001b[0m \u001b[32m━━━━━━━━━━━━━━━━━━━━\u001b[0m\u001b[37m\u001b[0m \u001b[1m15s\u001b[0m 113ms/step - loss: 0.0404\n",
      "Epoch 2/50\n",
      "\u001b[1m96/96\u001b[0m \u001b[32m━━━━━━━━━━━━━━━━━━━━\u001b[0m\u001b[37m\u001b[0m \u001b[1m11s\u001b[0m 116ms/step - loss: 0.0062\n",
      "Epoch 3/50\n",
      "\u001b[1m96/96\u001b[0m \u001b[32m━━━━━━━━━━━━━━━━━━━━\u001b[0m\u001b[37m\u001b[0m \u001b[1m15s\u001b[0m 151ms/step - loss: 0.0055\n",
      "Epoch 4/50\n",
      "\u001b[1m96/96\u001b[0m \u001b[32m━━━━━━━━━━━━━━━━━━━━\u001b[0m\u001b[37m\u001b[0m \u001b[1m12s\u001b[0m 126ms/step - loss: 0.0043\n",
      "Epoch 5/50\n",
      "\u001b[1m96/96\u001b[0m \u001b[32m━━━━━━━━━━━━━━━━━━━━\u001b[0m\u001b[37m\u001b[0m \u001b[1m12s\u001b[0m 124ms/step - loss: 0.0042\n",
      "Epoch 6/50\n",
      "\u001b[1m96/96\u001b[0m \u001b[32m━━━━━━━━━━━━━━━━━━━━\u001b[0m\u001b[37m\u001b[0m \u001b[1m11s\u001b[0m 118ms/step - loss: 0.0045\n",
      "Epoch 7/50\n",
      "\u001b[1m96/96\u001b[0m \u001b[32m━━━━━━━━━━━━━━━━━━━━\u001b[0m\u001b[37m\u001b[0m \u001b[1m12s\u001b[0m 124ms/step - loss: 0.0037\n",
      "Epoch 8/50\n",
      "\u001b[1m96/96\u001b[0m \u001b[32m━━━━━━━━━━━━━━━━━━━━\u001b[0m\u001b[37m\u001b[0m \u001b[1m12s\u001b[0m 127ms/step - loss: 0.0037\n",
      "Epoch 9/50\n",
      "\u001b[1m96/96\u001b[0m \u001b[32m━━━━━━━━━━━━━━━━━━━━\u001b[0m\u001b[37m\u001b[0m \u001b[1m12s\u001b[0m 128ms/step - loss: 0.0036\n",
      "Epoch 10/50\n",
      "\u001b[1m96/96\u001b[0m \u001b[32m━━━━━━━━━━━━━━━━━━━━\u001b[0m\u001b[37m\u001b[0m \u001b[1m12s\u001b[0m 125ms/step - loss: 0.0037\n",
      "Epoch 11/50\n",
      "\u001b[1m96/96\u001b[0m \u001b[32m━━━━━━━━━━━━━━━━━━━━\u001b[0m\u001b[37m\u001b[0m \u001b[1m12s\u001b[0m 124ms/step - loss: 0.0030\n",
      "Epoch 12/50\n",
      "\u001b[1m96/96\u001b[0m \u001b[32m━━━━━━━━━━━━━━━━━━━━\u001b[0m\u001b[37m\u001b[0m \u001b[1m12s\u001b[0m 122ms/step - loss: 0.0031\n",
      "Epoch 13/50\n",
      "\u001b[1m96/96\u001b[0m \u001b[32m━━━━━━━━━━━━━━━━━━━━\u001b[0m\u001b[37m\u001b[0m \u001b[1m12s\u001b[0m 124ms/step - loss: 0.0033\n",
      "Epoch 14/50\n",
      "\u001b[1m96/96\u001b[0m \u001b[32m━━━━━━━━━━━━━━━━━━━━\u001b[0m\u001b[37m\u001b[0m \u001b[1m12s\u001b[0m 123ms/step - loss: 0.0031\n",
      "Epoch 15/50\n",
      "\u001b[1m96/96\u001b[0m \u001b[32m━━━━━━━━━━━━━━━━━━━━\u001b[0m\u001b[37m\u001b[0m \u001b[1m12s\u001b[0m 127ms/step - loss: 0.0030\n",
      "Epoch 16/50\n",
      "\u001b[1m96/96\u001b[0m \u001b[32m━━━━━━━━━━━━━━━━━━━━\u001b[0m\u001b[37m\u001b[0m \u001b[1m12s\u001b[0m 125ms/step - loss: 0.0030\n",
      "Epoch 17/50\n",
      "\u001b[1m96/96\u001b[0m \u001b[32m━━━━━━━━━━━━━━━━━━━━\u001b[0m\u001b[37m\u001b[0m \u001b[1m12s\u001b[0m 121ms/step - loss: 0.0027\n",
      "Epoch 18/50\n",
      "\u001b[1m96/96\u001b[0m \u001b[32m━━━━━━━━━━━━━━━━━━━━\u001b[0m\u001b[37m\u001b[0m \u001b[1m12s\u001b[0m 126ms/step - loss: 0.0026\n",
      "Epoch 19/50\n",
      "\u001b[1m96/96\u001b[0m \u001b[32m━━━━━━━━━━━━━━━━━━━━\u001b[0m\u001b[37m\u001b[0m \u001b[1m12s\u001b[0m 127ms/step - loss: 0.0025\n",
      "Epoch 20/50\n",
      "\u001b[1m96/96\u001b[0m \u001b[32m━━━━━━━━━━━━━━━━━━━━\u001b[0m\u001b[37m\u001b[0m \u001b[1m12s\u001b[0m 125ms/step - loss: 0.0026\n",
      "Epoch 21/50\n",
      "\u001b[1m96/96\u001b[0m \u001b[32m━━━━━━━━━━━━━━━━━━━━\u001b[0m\u001b[37m\u001b[0m \u001b[1m12s\u001b[0m 124ms/step - loss: 0.0026\n",
      "Epoch 22/50\n",
      "\u001b[1m96/96\u001b[0m \u001b[32m━━━━━━━━━━━━━━━━━━━━\u001b[0m\u001b[37m\u001b[0m \u001b[1m12s\u001b[0m 127ms/step - loss: 0.0024\n",
      "Epoch 23/50\n",
      "\u001b[1m96/96\u001b[0m \u001b[32m━━━━━━━━━━━━━━━━━━━━\u001b[0m\u001b[37m\u001b[0m \u001b[1m12s\u001b[0m 128ms/step - loss: 0.0023\n",
      "Epoch 24/50\n",
      "\u001b[1m96/96\u001b[0m \u001b[32m━━━━━━━━━━━━━━━━━━━━\u001b[0m\u001b[37m\u001b[0m \u001b[1m12s\u001b[0m 127ms/step - loss: 0.0027\n",
      "Epoch 25/50\n",
      "\u001b[1m96/96\u001b[0m \u001b[32m━━━━━━━━━━━━━━━━━━━━\u001b[0m\u001b[37m\u001b[0m \u001b[1m13s\u001b[0m 132ms/step - loss: 0.0023\n",
      "Epoch 26/50\n",
      "\u001b[1m96/96\u001b[0m \u001b[32m━━━━━━━━━━━━━━━━━━━━\u001b[0m\u001b[37m\u001b[0m \u001b[1m13s\u001b[0m 133ms/step - loss: 0.0022\n",
      "Epoch 27/50\n",
      "\u001b[1m96/96\u001b[0m \u001b[32m━━━━━━━━━━━━━━━━━━━━\u001b[0m\u001b[37m\u001b[0m \u001b[1m187s\u001b[0m 2s/step - loss: 0.0024\n",
      "Epoch 28/50\n",
      "\u001b[1m96/96\u001b[0m \u001b[32m━━━━━━━━━━━━━━━━━━━━\u001b[0m\u001b[37m\u001b[0m \u001b[1m11s\u001b[0m 114ms/step - loss: 0.0021\n",
      "Epoch 29/50\n",
      "\u001b[1m96/96\u001b[0m \u001b[32m━━━━━━━━━━━━━━━━━━━━\u001b[0m\u001b[37m\u001b[0m \u001b[1m11s\u001b[0m 112ms/step - loss: 0.0021\n",
      "Epoch 30/50\n",
      "\u001b[1m96/96\u001b[0m \u001b[32m━━━━━━━━━━━━━━━━━━━━\u001b[0m\u001b[37m\u001b[0m \u001b[1m11s\u001b[0m 109ms/step - loss: 0.0023\n",
      "Epoch 31/50\n",
      "\u001b[1m96/96\u001b[0m \u001b[32m━━━━━━━━━━━━━━━━━━━━\u001b[0m\u001b[37m\u001b[0m \u001b[1m11s\u001b[0m 111ms/step - loss: 0.0022\n",
      "Epoch 32/50\n",
      "\u001b[1m96/96\u001b[0m \u001b[32m━━━━━━━━━━━━━━━━━━━━\u001b[0m\u001b[37m\u001b[0m \u001b[1m12s\u001b[0m 122ms/step - loss: 0.0022\n",
      "Epoch 33/50\n",
      "\u001b[1m96/96\u001b[0m \u001b[32m━━━━━━━━━━━━━━━━━━━━\u001b[0m\u001b[37m\u001b[0m \u001b[1m12s\u001b[0m 127ms/step - loss: 0.0022\n",
      "Epoch 34/50\n",
      "\u001b[1m96/96\u001b[0m \u001b[32m━━━━━━━━━━━━━━━━━━━━\u001b[0m\u001b[37m\u001b[0m \u001b[1m12s\u001b[0m 126ms/step - loss: 0.0021\n",
      "Epoch 35/50\n",
      "\u001b[1m96/96\u001b[0m \u001b[32m━━━━━━━━━━━━━━━━━━━━\u001b[0m\u001b[37m\u001b[0m \u001b[1m12s\u001b[0m 123ms/step - loss: 0.0025\n",
      "Epoch 36/50\n",
      "\u001b[1m96/96\u001b[0m \u001b[32m━━━━━━━━━━━━━━━━━━━━\u001b[0m\u001b[37m\u001b[0m \u001b[1m12s\u001b[0m 125ms/step - loss: 0.0023\n",
      "Epoch 37/50\n",
      "\u001b[1m96/96\u001b[0m \u001b[32m━━━━━━━━━━━━━━━━━━━━\u001b[0m\u001b[37m\u001b[0m \u001b[1m12s\u001b[0m 123ms/step - loss: 0.0024\n",
      "Epoch 38/50\n",
      "\u001b[1m96/96\u001b[0m \u001b[32m━━━━━━━━━━━━━━━━━━━━\u001b[0m\u001b[37m\u001b[0m \u001b[1m12s\u001b[0m 126ms/step - loss: 0.0021\n",
      "Epoch 39/50\n",
      "\u001b[1m96/96\u001b[0m \u001b[32m━━━━━━━━━━━━━━━━━━━━\u001b[0m\u001b[37m\u001b[0m \u001b[1m12s\u001b[0m 123ms/step - loss: 0.0023\n",
      "Epoch 40/50\n",
      "\u001b[1m96/96\u001b[0m \u001b[32m━━━━━━━━━━━━━━━━━━━━\u001b[0m\u001b[37m\u001b[0m \u001b[1m12s\u001b[0m 120ms/step - loss: 0.0020\n",
      "Epoch 41/50\n",
      "\u001b[1m96/96\u001b[0m \u001b[32m━━━━━━━━━━━━━━━━━━━━\u001b[0m\u001b[37m\u001b[0m \u001b[1m13s\u001b[0m 137ms/step - loss: 0.0022\n",
      "Epoch 42/50\n",
      "\u001b[1m96/96\u001b[0m \u001b[32m━━━━━━━━━━━━━━━━━━━━\u001b[0m\u001b[37m\u001b[0m \u001b[1m12s\u001b[0m 125ms/step - loss: 0.0023\n",
      "Epoch 43/50\n",
      "\u001b[1m96/96\u001b[0m \u001b[32m━━━━━━━━━━━━━━━━━━━━\u001b[0m\u001b[37m\u001b[0m \u001b[1m14s\u001b[0m 141ms/step - loss: 0.0023\n",
      "Epoch 44/50\n",
      "\u001b[1m96/96\u001b[0m \u001b[32m━━━━━━━━━━━━━━━━━━━━\u001b[0m\u001b[37m\u001b[0m \u001b[1m133s\u001b[0m 1s/step - loss: 0.0020\n",
      "Epoch 45/50\n",
      "\u001b[1m96/96\u001b[0m \u001b[32m━━━━━━━━━━━━━━━━━━━━\u001b[0m\u001b[37m\u001b[0m \u001b[1m11s\u001b[0m 118ms/step - loss: 0.0022\n",
      "Epoch 46/50\n",
      "\u001b[1m96/96\u001b[0m \u001b[32m━━━━━━━━━━━━━━━━━━━━\u001b[0m\u001b[37m\u001b[0m \u001b[1m12s\u001b[0m 123ms/step - loss: 0.0020\n",
      "Epoch 47/50\n",
      "\u001b[1m96/96\u001b[0m \u001b[32m━━━━━━━━━━━━━━━━━━━━\u001b[0m\u001b[37m\u001b[0m \u001b[1m29s\u001b[0m 301ms/step - loss: 0.0021\n",
      "Epoch 48/50\n",
      "\u001b[1m96/96\u001b[0m \u001b[32m━━━━━━━━━━━━━━━━━━━━\u001b[0m\u001b[37m\u001b[0m \u001b[1m27s\u001b[0m 282ms/step - loss: 0.0020\n",
      "Epoch 49/50\n",
      "\u001b[1m96/96\u001b[0m \u001b[32m━━━━━━━━━━━━━━━━━━━━\u001b[0m\u001b[37m\u001b[0m \u001b[1m30s\u001b[0m 307ms/step - loss: 0.0019\n",
      "Epoch 50/50\n",
      "\u001b[1m96/96\u001b[0m \u001b[32m━━━━━━━━━━━━━━━━━━━━\u001b[0m\u001b[37m\u001b[0m \u001b[1m29s\u001b[0m 306ms/step - loss: 0.0018\n"
     ]
    },
    {
     "data": {
      "text/plain": [
       "<keras.src.callbacks.history.History at 0x1469be07050>"
      ]
     },
     "execution_count": 36,
     "metadata": {},
     "output_type": "execute_result"
    }
   ],
   "source": [
    "model.fit(x, y, epochs = 50, verbose =1 )"
   ]
  },
  {
   "cell_type": "code",
   "execution_count": 37,
   "id": "dafce5a7-5925-41ab-80c1-e419895edb22",
   "metadata": {},
   "outputs": [],
   "source": [
    "test_data = pd.concat((train_data.tail(100), test_data), ignore_index=True)"
   ]
  },
  {
   "cell_type": "code",
   "execution_count": 38,
   "id": "5ce72073-66b7-4fb9-871d-e67d0b982671",
   "metadata": {},
   "outputs": [
    {
     "data": {
      "text/html": [
       "<div>\n",
       "<style scoped>\n",
       "    .dataframe tbody tr th:only-of-type {\n",
       "        vertical-align: middle;\n",
       "    }\n",
       "\n",
       "    .dataframe tbody tr th {\n",
       "        vertical-align: top;\n",
       "    }\n",
       "\n",
       "    .dataframe thead th {\n",
       "        text-align: right;\n",
       "    }\n",
       "</style>\n",
       "<table border=\"1\" class=\"dataframe\">\n",
       "  <thead>\n",
       "    <tr style=\"text-align: right;\">\n",
       "      <th></th>\n",
       "      <th>Close</th>\n",
       "    </tr>\n",
       "  </thead>\n",
       "  <tbody>\n",
       "    <tr>\n",
       "      <th>0</th>\n",
       "      <td>35022.44</td>\n",
       "    </tr>\n",
       "    <tr>\n",
       "      <th>1</th>\n",
       "      <td>35019.43</td>\n",
       "    </tr>\n",
       "    <tr>\n",
       "      <th>2</th>\n",
       "      <td>35423.24</td>\n",
       "    </tr>\n",
       "    <tr>\n",
       "      <th>3</th>\n",
       "      <td>35680.29</td>\n",
       "    </tr>\n",
       "    <tr>\n",
       "      <th>4</th>\n",
       "      <td>36775.23</td>\n",
       "    </tr>\n",
       "    <tr>\n",
       "      <th>...</th>\n",
       "      <td>...</td>\n",
       "    </tr>\n",
       "    <tr>\n",
       "      <th>195</th>\n",
       "      <td>66914.58</td>\n",
       "    </tr>\n",
       "    <tr>\n",
       "      <th>196</th>\n",
       "      <td>66347.05</td>\n",
       "    </tr>\n",
       "    <tr>\n",
       "      <th>197</th>\n",
       "      <td>71418.17</td>\n",
       "    </tr>\n",
       "    <tr>\n",
       "      <th>198</th>\n",
       "      <td>70104.40</td>\n",
       "    </tr>\n",
       "    <tr>\n",
       "      <th>199</th>\n",
       "      <td>69224.99</td>\n",
       "    </tr>\n",
       "  </tbody>\n",
       "</table>\n",
       "<p>200 rows × 1 columns</p>\n",
       "</div>"
      ],
      "text/plain": [
       "        Close\n",
       "0    35022.44\n",
       "1    35019.43\n",
       "2    35423.24\n",
       "3    35680.29\n",
       "4    36775.23\n",
       "..        ...\n",
       "195  66914.58\n",
       "196  66347.05\n",
       "197  71418.17\n",
       "198  70104.40\n",
       "199  69224.99\n",
       "\n",
       "[200 rows x 1 columns]"
      ]
     },
     "execution_count": 38,
     "metadata": {},
     "output_type": "execute_result"
    }
   ],
   "source": [
    "test_data"
   ]
  },
  {
   "cell_type": "code",
   "execution_count": 39,
   "id": "ad3624ce-0112-4958-b66a-dbbf5c0f9f39",
   "metadata": {},
   "outputs": [],
   "source": [
    "test_data_scale = scaler.transform(test_data)"
   ]
  },
  {
   "cell_type": "code",
   "execution_count": 40,
   "id": "3ee2fbb6-02bc-4d45-b74c-8152607c5e01",
   "metadata": {},
   "outputs": [],
   "source": [
    "x = []\n",
    "y = [] \n",
    "\n",
    "for i in range(base_days, test_data_scale.shape[0]):\n",
    "    x.append(test_data_scale[i-base_days:i])\n",
    "    y.append(test_data_scale[i,0])"
   ]
  },
  {
   "cell_type": "code",
   "execution_count": 41,
   "id": "221c8102-ba5b-4996-8e66-49e1357a2a7b",
   "metadata": {},
   "outputs": [
    {
     "data": {
      "text/plain": [
       "array([[0.51733919],\n",
       "       [0.51729446],\n",
       "       [0.52329562],\n",
       "       [0.52711573],\n",
       "       [0.54338802],\n",
       "       [0.55150098],\n",
       "       [0.54794957],\n",
       "       [0.547249  ],\n",
       "       [0.53976854],\n",
       "       [0.52503143],\n",
       "       [0.55956356],\n",
       "       [0.53518916],\n",
       "       [0.53950594],\n",
       "       [0.54018065],\n",
       "       [0.55250219],\n",
       "       [0.55365216],\n",
       "       [0.53100792],\n",
       "       [0.55339774],\n",
       "       [0.55110359],\n",
       "       [0.55729186],\n",
       "       [0.55840705],\n",
       "       [0.55383377],\n",
       "       [0.55072359],\n",
       "       [0.55827404],\n",
       "       [0.55873653],\n",
       "       [0.55735457],\n",
       "       [0.57136942],\n",
       "       [0.58328733],\n",
       "       [0.59043668],\n",
       "       [0.62097275],\n",
       "       [0.65203119],\n",
       "       [0.6465154 ],\n",
       "       [0.63961171],\n",
       "       [0.65372018],\n",
       "       [0.64631804],\n",
       "       [0.64723097],\n",
       "       [0.60945996],\n",
       "       [0.61379189],\n",
       "       [0.63451248],\n",
       "       [0.63595849],\n",
       "       [0.62034292],\n",
       "       [0.6246704 ],\n",
       "       [0.61284285],\n",
       "       [0.63093372],\n",
       "       [0.62549595],\n",
       "       [0.64549621],\n",
       "       [0.6485199 ],\n",
       "       [0.64999831],\n",
       "       [0.64670548],\n",
       "       [0.63616254],\n",
       "       [0.6450196 ],\n",
       "       [0.6287601 ],\n",
       "       [0.64160699],\n",
       "       [0.62983398],\n",
       "       [0.62188836],\n",
       "       [0.62399035],\n",
       "       [0.62436545],\n",
       "       [0.6525714 ],\n",
       "       [0.66498955],\n",
       "       [0.6331922 ],\n",
       "       [0.65355403],\n",
       "       [0.65242398],\n",
       "       [0.64989264],\n",
       "       [0.6485355 ],\n",
       "       [0.69385594],\n",
       "       [0.68170039],\n",
       "       [0.6888655 ],\n",
       "       [0.68578548],\n",
       "       [0.63435168],\n",
       "       [0.633519  ],\n",
       "       [0.61714001],\n",
       "       [0.63012184],\n",
       "       [0.6379355 ],\n",
       "       [0.63239979],\n",
       "       [0.61058645],\n",
       "       [0.61549426],\n",
       "       [0.61611591],\n",
       "       [0.61434622],\n",
       "       [0.58413413],\n",
       "       [0.58943652],\n",
       "       [0.59347969],\n",
       "       [0.59025969],\n",
       "       [0.61904523],\n",
       "       [0.62271004],\n",
       "       [0.62131307],\n",
       "       [0.63990031],\n",
       "       [0.63464163],\n",
       "       [0.63011902],\n",
       "       [0.63692864],\n",
       "       [0.63870754],\n",
       "       [0.63546063],\n",
       "       [0.63010029],\n",
       "       [0.63164112],\n",
       "       [0.63745919],\n",
       "       [0.65563299],\n",
       "       [0.67031526],\n",
       "       [0.69673785],\n",
       "       [0.70663997],\n",
       "       [0.71421109],\n",
       "       [0.74018397]])"
      ]
     },
     "execution_count": 41,
     "metadata": {},
     "output_type": "execute_result"
    }
   ],
   "source": [
    "x[0]"
   ]
  },
  {
   "cell_type": "code",
   "execution_count": 42,
   "id": "c9de8a50-45da-4d7a-a718-f0bb354bd518",
   "metadata": {},
   "outputs": [],
   "source": [
    "x, y = np.array(x), np.array(y)"
   ]
  },
  {
   "cell_type": "code",
   "execution_count": 43,
   "id": "3889063d-4c04-4fa8-90dd-420904abdda5",
   "metadata": {},
   "outputs": [],
   "source": [
    "x = np.reshape(x, (x.shape[0],x.shape[1],1))"
   ]
  },
  {
   "cell_type": "code",
   "execution_count": 44,
   "id": "6e7d9dda-d914-42db-b7f1-752e0e34559b",
   "metadata": {},
   "outputs": [
    {
     "name": "stdout",
     "output_type": "stream",
     "text": [
      "\u001b[1m4/4\u001b[0m \u001b[32m━━━━━━━━━━━━━━━━━━━━\u001b[0m\u001b[37m\u001b[0m \u001b[1m2s\u001b[0m 365ms/step\n"
     ]
    }
   ],
   "source": [
    "pred = model.predict(x)"
   ]
  },
  {
   "cell_type": "code",
   "execution_count": 45,
   "id": "eb0ff70b-6c4b-4680-ad59-dc38d7d452f0",
   "metadata": {},
   "outputs": [],
   "source": [
    "pred = scaler.inverse_transform(pred)"
   ]
  },
  {
   "cell_type": "code",
   "execution_count": 46,
   "id": "38733809-609d-420e-9904-e27030f36a42",
   "metadata": {},
   "outputs": [
    {
     "data": {
      "text/plain": [
       "array([[42030.703],\n",
       "       [43031.43 ],\n",
       "       [43882.688],\n",
       "       [44540.438],\n",
       "       [44952.74 ],\n",
       "       [45032.098],\n",
       "       [44884.36 ],\n",
       "       [44576.906],\n",
       "       [44299.113],\n",
       "       [44085.03 ],\n",
       "       [43879.242],\n",
       "       [43617.73 ],\n",
       "       [43444.887],\n",
       "       [43455.465],\n",
       "       [43958.67 ],\n",
       "       [45060.7  ],\n",
       "       [46849.49 ],\n",
       "       [48903.324],\n",
       "       [50881.87 ],\n",
       "       [52297.43 ],\n",
       "       [53121.88 ],\n",
       "       [54076.598],\n",
       "       [54486.582],\n",
       "       [54605.35 ],\n",
       "       [54679.062],\n",
       "       [54973.316],\n",
       "       [55442.496],\n",
       "       [55955.062],\n",
       "       [56857.71 ],\n",
       "       [57754.5  ],\n",
       "       [58584.418],\n",
       "       [58824.04 ],\n",
       "       [58247.05 ],\n",
       "       [56700.582],\n",
       "       [55124.54 ],\n",
       "       [54109.53 ],\n",
       "       [53033.004],\n",
       "       [52802.168],\n",
       "       [53180.02 ],\n",
       "       [53471.156],\n",
       "       [53561.33 ],\n",
       "       [53997.66 ],\n",
       "       [55018.523],\n",
       "       [56338.246],\n",
       "       [57347.93 ],\n",
       "       [57950.996],\n",
       "       [57964.223],\n",
       "       [57510.348],\n",
       "       [57090.047],\n",
       "       [56682.99 ],\n",
       "       [55722.242],\n",
       "       [54536.527],\n",
       "       [53940.96 ],\n",
       "       [54134.348],\n",
       "       [54990.02 ],\n",
       "       [56105.78 ],\n",
       "       [57371.566],\n",
       "       [57947.88 ],\n",
       "       [58003.05 ],\n",
       "       [57659.426],\n",
       "       [56727.664],\n",
       "       [55177.375],\n",
       "       [53617.594],\n",
       "       [52302.977],\n",
       "       [51578.656],\n",
       "       [51138.664],\n",
       "       [51248.473],\n",
       "       [51891.875],\n",
       "       [52886.977],\n",
       "       [53834.918],\n",
       "       [54738.56 ],\n",
       "       [55330.445],\n",
       "       [55178.84 ],\n",
       "       [54488.973],\n",
       "       [53525.16 ],\n",
       "       [52576.594],\n",
       "       [51864.465],\n",
       "       [51672.105],\n",
       "       [51437.105],\n",
       "       [50727.832],\n",
       "       [49826.543],\n",
       "       [49575.76 ],\n",
       "       [50216.074],\n",
       "       [51467.33 ],\n",
       "       [52663.46 ],\n",
       "       [53254.305],\n",
       "       [53054.83 ],\n",
       "       [52585.504],\n",
       "       [51871.17 ],\n",
       "       [51092.7  ],\n",
       "       [50591.785],\n",
       "       [50718.883],\n",
       "       [51124.35 ],\n",
       "       [52097.98 ],\n",
       "       [53278.25 ],\n",
       "       [54520.36 ],\n",
       "       [55448.48 ],\n",
       "       [55760.695],\n",
       "       [56330.367],\n",
       "       [56933.754]], dtype=float32)"
      ]
     },
     "execution_count": 46,
     "metadata": {},
     "output_type": "execute_result"
    }
   ],
   "source": [
    "pred"
   ]
  },
  {
   "cell_type": "code",
   "execution_count": 47,
   "id": "dc7279c7-936a-4157-8eb5-8e20eb7519d5",
   "metadata": {},
   "outputs": [],
   "source": [
    "#future Bitcoin Price"
   ]
  },
  {
   "cell_type": "code",
   "execution_count": 48,
   "id": "6f47376a-50bb-43ea-9e2a-eaadc54ecaaa",
   "metadata": {},
   "outputs": [
    {
     "name": "stdout",
     "output_type": "stream",
     "text": [
      "\u001b[1m1/1\u001b[0m \u001b[32m━━━━━━━━━━━━━━━━━━━━\u001b[0m\u001b[37m\u001b[0m \u001b[1m0s\u001b[0m 57ms/step\n",
      "\u001b[1m1/1\u001b[0m \u001b[32m━━━━━━━━━━━━━━━━━━━━\u001b[0m\u001b[37m\u001b[0m \u001b[1m0s\u001b[0m 44ms/step\n",
      "\u001b[1m1/1\u001b[0m \u001b[32m━━━━━━━━━━━━━━━━━━━━\u001b[0m\u001b[37m\u001b[0m \u001b[1m0s\u001b[0m 48ms/step\n",
      "\u001b[1m1/1\u001b[0m \u001b[32m━━━━━━━━━━━━━━━━━━━━\u001b[0m\u001b[37m\u001b[0m \u001b[1m0s\u001b[0m 63ms/step\n",
      "\u001b[1m1/1\u001b[0m \u001b[32m━━━━━━━━━━━━━━━━━━━━\u001b[0m\u001b[37m\u001b[0m \u001b[1m0s\u001b[0m 50ms/step\n",
      "\u001b[1m1/1\u001b[0m \u001b[32m━━━━━━━━━━━━━━━━━━━━\u001b[0m\u001b[37m\u001b[0m \u001b[1m0s\u001b[0m 58ms/step\n",
      "\u001b[1m1/1\u001b[0m \u001b[32m━━━━━━━━━━━━━━━━━━━━\u001b[0m\u001b[37m\u001b[0m \u001b[1m0s\u001b[0m 63ms/step\n",
      "\u001b[1m1/1\u001b[0m \u001b[32m━━━━━━━━━━━━━━━━━━━━\u001b[0m\u001b[37m\u001b[0m \u001b[1m0s\u001b[0m 62ms/step\n",
      "\u001b[1m1/1\u001b[0m \u001b[32m━━━━━━━━━━━━━━━━━━━━\u001b[0m\u001b[37m\u001b[0m \u001b[1m0s\u001b[0m 62ms/step\n",
      "\u001b[1m1/1\u001b[0m \u001b[32m━━━━━━━━━━━━━━━━━━━━\u001b[0m\u001b[37m\u001b[0m \u001b[1m0s\u001b[0m 63ms/step\n",
      "\u001b[1m1/1\u001b[0m \u001b[32m━━━━━━━━━━━━━━━━━━━━\u001b[0m\u001b[37m\u001b[0m \u001b[1m0s\u001b[0m 63ms/step\n",
      "\u001b[1m1/1\u001b[0m \u001b[32m━━━━━━━━━━━━━━━━━━━━\u001b[0m\u001b[37m\u001b[0m \u001b[1m0s\u001b[0m 64ms/step\n",
      "\u001b[1m1/1\u001b[0m \u001b[32m━━━━━━━━━━━━━━━━━━━━\u001b[0m\u001b[37m\u001b[0m \u001b[1m0s\u001b[0m 64ms/step\n",
      "\u001b[1m1/1\u001b[0m \u001b[32m━━━━━━━━━━━━━━━━━━━━\u001b[0m\u001b[37m\u001b[0m \u001b[1m0s\u001b[0m 68ms/step\n",
      "\u001b[1m1/1\u001b[0m \u001b[32m━━━━━━━━━━━━━━━━━━━━\u001b[0m\u001b[37m\u001b[0m \u001b[1m0s\u001b[0m 63ms/step\n",
      "\u001b[1m1/1\u001b[0m \u001b[32m━━━━━━━━━━━━━━━━━━━━\u001b[0m\u001b[37m\u001b[0m \u001b[1m0s\u001b[0m 58ms/step\n",
      "\u001b[1m1/1\u001b[0m \u001b[32m━━━━━━━━━━━━━━━━━━━━\u001b[0m\u001b[37m\u001b[0m \u001b[1m0s\u001b[0m 51ms/step\n",
      "\u001b[1m1/1\u001b[0m \u001b[32m━━━━━━━━━━━━━━━━━━━━\u001b[0m\u001b[37m\u001b[0m \u001b[1m0s\u001b[0m 64ms/step\n",
      "\u001b[1m1/1\u001b[0m \u001b[32m━━━━━━━━━━━━━━━━━━━━\u001b[0m\u001b[37m\u001b[0m \u001b[1m0s\u001b[0m 58ms/step\n",
      "\u001b[1m1/1\u001b[0m \u001b[32m━━━━━━━━━━━━━━━━━━━━\u001b[0m\u001b[37m\u001b[0m \u001b[1m0s\u001b[0m 47ms/step\n",
      "\u001b[1m1/1\u001b[0m \u001b[32m━━━━━━━━━━━━━━━━━━━━\u001b[0m\u001b[37m\u001b[0m \u001b[1m0s\u001b[0m 54ms/step\n",
      "\u001b[1m1/1\u001b[0m \u001b[32m━━━━━━━━━━━━━━━━━━━━\u001b[0m\u001b[37m\u001b[0m \u001b[1m0s\u001b[0m 67ms/step\n",
      "\u001b[1m1/1\u001b[0m \u001b[32m━━━━━━━━━━━━━━━━━━━━\u001b[0m\u001b[37m\u001b[0m \u001b[1m0s\u001b[0m 65ms/step\n",
      "\u001b[1m1/1\u001b[0m \u001b[32m━━━━━━━━━━━━━━━━━━━━\u001b[0m\u001b[37m\u001b[0m \u001b[1m0s\u001b[0m 63ms/step\n",
      "\u001b[1m1/1\u001b[0m \u001b[32m━━━━━━━━━━━━━━━━━━━━\u001b[0m\u001b[37m\u001b[0m \u001b[1m0s\u001b[0m 63ms/step\n",
      "\u001b[1m1/1\u001b[0m \u001b[32m━━━━━━━━━━━━━━━━━━━━\u001b[0m\u001b[37m\u001b[0m \u001b[1m0s\u001b[0m 62ms/step\n",
      "\u001b[1m1/1\u001b[0m \u001b[32m━━━━━━━━━━━━━━━━━━━━\u001b[0m\u001b[37m\u001b[0m \u001b[1m0s\u001b[0m 150ms/step\n",
      "\u001b[1m1/1\u001b[0m \u001b[32m━━━━━━━━━━━━━━━━━━━━\u001b[0m\u001b[37m\u001b[0m \u001b[1m0s\u001b[0m 63ms/step\n",
      "\u001b[1m1/1\u001b[0m \u001b[32m━━━━━━━━━━━━━━━━━━━━\u001b[0m\u001b[37m\u001b[0m \u001b[1m0s\u001b[0m 63ms/step\n",
      "\u001b[1m1/1\u001b[0m \u001b[32m━━━━━━━━━━━━━━━━━━━━\u001b[0m\u001b[37m\u001b[0m \u001b[1m0s\u001b[0m 63ms/step\n"
     ]
    }
   ],
   "source": [
    "m = y\n",
    "z= []\n",
    "future_days = 30\n",
    "for i in range(base_days, len(m)+future_days):\n",
    "    m = m.reshape(-1,1)\n",
    "    inter = [m[-base_days:,0]]\n",
    "    inter = np.array(inter)\n",
    "    inter = np.reshape(inter, (inter.shape[0], inter.shape[1],1))\n",
    "    pred = model.predict(inter)\n",
    "    z = np.append(z, pred)\n"
   ]
  },
  {
   "cell_type": "code",
   "execution_count": 49,
   "id": "ffe629b8-a508-4165-a6ed-cd1bcfcc1fcd",
   "metadata": {},
   "outputs": [],
   "source": [
    "z = np.array(z)\n",
    "z = scaler.inverse_transform(z.reshape(-1,1))"
   ]
  },
  {
   "cell_type": "code",
   "execution_count": 50,
   "id": "efcc3b51-cb09-434c-be4d-aeaddf48db90",
   "metadata": {},
   "outputs": [
    {
     "data": {
      "text/plain": [
       "array([[57159.18238246],\n",
       "       [57159.18238246],\n",
       "       [57159.18238246],\n",
       "       [57159.18238246],\n",
       "       [57159.18238246],\n",
       "       [57159.18238246],\n",
       "       [57159.18238246],\n",
       "       [57159.18238246],\n",
       "       [57159.18238246],\n",
       "       [57159.18238246],\n",
       "       [57159.18238246],\n",
       "       [57159.18238246],\n",
       "       [57159.18238246],\n",
       "       [57159.18238246],\n",
       "       [57159.18238246],\n",
       "       [57159.18238246],\n",
       "       [57159.18238246],\n",
       "       [57159.18238246],\n",
       "       [57159.18238246],\n",
       "       [57159.18238246],\n",
       "       [57159.18238246],\n",
       "       [57159.18238246],\n",
       "       [57159.18238246],\n",
       "       [57159.18238246],\n",
       "       [57159.18238246],\n",
       "       [57159.18238246],\n",
       "       [57159.18238246],\n",
       "       [57159.18238246],\n",
       "       [57159.18238246],\n",
       "       [57159.18238246]])"
      ]
     },
     "execution_count": 50,
     "metadata": {},
     "output_type": "execute_result"
    }
   ],
   "source": [
    "z"
   ]
  },
  {
   "cell_type": "code",
   "execution_count": 51,
   "id": "b78de981-8d62-4340-bc70-6b91728b1331",
   "metadata": {},
   "outputs": [],
   "source": [
    "model.save('Bitcoin.keras')"
   ]
  }
 ],
 "metadata": {
  "kernelspec": {
   "display_name": "Python 3 (ipykernel)",
   "language": "python",
   "name": "python3"
  },
  "language_info": {
   "codemirror_mode": {
    "name": "ipython",
    "version": 3
   },
   "file_extension": ".py",
   "mimetype": "text/x-python",
   "name": "python",
   "nbconvert_exporter": "python",
   "pygments_lexer": "ipython3",
   "version": "3.12.3"
  }
 },
 "nbformat": 4,
 "nbformat_minor": 5
}
